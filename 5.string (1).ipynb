{
 "cells": [
  {
   "cell_type": "markdown",
   "id": "485f24fc-4ca2-45a9-b35e-a2b90cb33a77",
   "metadata": {},
   "source": [
    "<h1>strings session</h1>"
   ]
  },
  {
   "cell_type": "code",
   "execution_count": 5,
   "id": "4a9b4f04-9ce2-4004-ae18-b20039751492",
   "metadata": {},
   "outputs": [
    {
     "name": "stdout",
     "output_type": "stream",
     "text": [
      "1 1\n",
      "1 2\n",
      "1 3\n",
      "1 4\n",
      "2 1\n",
      "2 2\n",
      "2 3\n",
      "2 4\n",
      "3 1\n",
      "3 2\n",
      "3 3\n",
      "3 4\n",
      "4 1\n",
      "4 2\n",
      "4 3\n",
      "4 4\n"
     ]
    }
   ],
   "source": [
    "#unique pair\n",
    "for i in range(1,5):\n",
    "  for j in range(1,5):\n",
    "      print(i,j)\n",
    "      #print(i+j)"
   ]
  },
  {
   "cell_type": "code",
   "execution_count": 8,
   "id": "00cf52c4-981e-4566-9de5-62bbb3bf3587",
   "metadata": {},
   "outputs": [
    {
     "name": "stdin",
     "output_type": "stream",
     "text": [
      "please enter a number 5\n"
     ]
    },
    {
     "name": "stdout",
     "output_type": "stream",
     "text": [
      "* \n",
      "** \n",
      "*** \n",
      "**** \n",
      "***** \n"
     ]
    }
   ],
   "source": [
    "#printing pattern\n",
    "a=int(input(\"please enter a number\"))\n",
    "for i in range(1,a+1):\n",
    " for j in range(1,i+1):\n",
    "     print(\"*\",end=\"\")\n",
    " print(\" \")"
   ]
  },
  {
   "cell_type": "code",
   "execution_count": 9,
   "id": "d87ae1c3-fe5a-4d67-93c5-aaebd2b8ef90",
   "metadata": {},
   "outputs": [
    {
     "name": "stdin",
     "output_type": "stream",
     "text": [
      "enter number of rows 7\n"
     ]
    },
    {
     "name": "stdout",
     "output_type": "stream",
     "text": [
      "1\n",
      "121\n",
      "12321\n",
      "1234321\n",
      "123454321\n",
      "12345654321\n",
      "1234567654321\n"
     ]
    }
   ],
   "source": [
    "# Code here\n",
    "rows = int(input('enter number of rows'))\n",
    "\n",
    "for i in range(1,rows+1):\n",
    "  for j in range(1,i+1):\n",
    "    print(j,end='')\n",
    "  for k in range(i-1,0,-1):\n",
    "    print(k,end='')\n",
    "\n",
    "  print()"
   ]
  },
  {
   "cell_type": "markdown",
   "id": "54debed6-265a-475d-b0c5-884bd0333f33",
   "metadata": {},
   "source": [
    "<h1>loop control statement</h1>\n",
    "<h2>break\n",
    "    continue\n",
    "    pass</h2>"
   ]
  },
  {
   "cell_type": "code",
   "execution_count": 13,
   "id": "ea4fead6-5757-4528-a3ae-7b9c9107448f",
   "metadata": {},
   "outputs": [
    {
     "name": "stdout",
     "output_type": "stream",
     "text": [
      "1\n",
      "2\n",
      "3\n",
      "4\n"
     ]
    }
   ],
   "source": [
    "for i in range(1,11):\n",
    " if i==5:\n",
    "     break\n",
    " print(i)"
   ]
  },
  {
   "cell_type": "code",
   "execution_count": 14,
   "id": "0c404583-c18e-40fd-805a-c7a0b7b505b8",
   "metadata": {},
   "outputs": [
    {
     "name": "stdin",
     "output_type": "stream",
     "text": [
      "enter lower range 7\n",
      "enter upper range 15\n"
     ]
    },
    {
     "name": "stdout",
     "output_type": "stream",
     "text": [
      "7\n",
      "11\n",
      "13\n"
     ]
    }
   ],
   "source": [
    "lower = int(input('enter lower range'))\n",
    "upper = int(input('enter upper range'))\n",
    "\n",
    "for i in range(lower,upper+1):\n",
    "  for j in range(2,i):\n",
    "    if i%j == 0:\n",
    "      break\n",
    "  else:\n",
    "    print(i)"
   ]
  },
  {
   "cell_type": "code",
   "execution_count": 15,
   "id": "5223fa1f-a173-404d-84ec-7c7fb01787c5",
   "metadata": {},
   "outputs": [
    {
     "name": "stdout",
     "output_type": "stream",
     "text": [
      "1\n",
      "2\n",
      "3\n",
      "4\n",
      "6\n",
      "7\n",
      "8\n",
      "9\n",
      "10\n"
     ]
    }
   ],
   "source": [
    "for i in range(1,11):\n",
    " if i==5:\n",
    "     continue\n",
    " print(i)"
   ]
  },
  {
   "cell_type": "code",
   "execution_count": 16,
   "id": "ead9eaa6-5325-40d9-92a4-0b64e1c49200",
   "metadata": {},
   "outputs": [],
   "source": [
    "for i in range(1,10):\n",
    "    pass\n",
    "    "
   ]
  },
  {
   "cell_type": "markdown",
   "id": "2f1e42df-0373-44a6-92bc-74a43ec506c3",
   "metadata": {},
   "source": [
    "<h1>creating strings</h1>"
   ]
  },
  {
   "cell_type": "code",
   "execution_count": 21,
   "id": "e7b6d9a7-6454-4a82-b5b2-d8f8063c66b8",
   "metadata": {},
   "outputs": [
    {
     "name": "stdout",
     "output_type": "stream",
     "text": [
      "hello sudhanshu singh rajput\n",
      "sudhanshu_singh_rajput\n",
      "hello sudhanshu_singh_rajput\n",
      "heloo sudhanshu_singh_rajput\n"
     ]
    }
   ],
   "source": [
    "print('hello sudhanshu singh rajput')\n",
    "print(\"sudhanshu_singh_rajput\")\n",
    "print(\"\"\"hello sudhanshu_singh_rajput\"\"\")\n",
    "print('''heloo sudhanshu_singh_rajput''')"
   ]
  },
  {
   "cell_type": "code",
   "execution_count": 22,
   "id": "5b8bd3be-48e8-4b4e-aec8-cde2c8e8fb0e",
   "metadata": {},
   "outputs": [
    {
     "data": {
      "text/plain": [
       "\"it's,raining outside\""
      ]
     },
     "execution_count": 22,
     "metadata": {},
     "output_type": "execute_result"
    }
   ],
   "source": [
    "\"it's,raining outside\""
   ]
  },
  {
   "cell_type": "markdown",
   "id": "e388e50a-db10-430a-bb75-c9dce0a2acc4",
   "metadata": {},
   "source": [
    "<h1>accessing substring to a strings</h1>"
   ]
  },
  {
   "cell_type": "code",
   "execution_count": 33,
   "id": "d6738bfa-9fe1-4da5-965b-1d9a31b0a421",
   "metadata": {},
   "outputs": [
    {
     "name": "stdout",
     "output_type": "stream",
     "text": [
      "i\n",
      "j\n",
      "sad\n",
      "tupjar_hgnis_uhsnahdus\n"
     ]
    }
   ],
   "source": [
    "s=\"sudhanshu_singh_rajput\"\n",
    "print(s[11])\n",
    "print(s[-4])\n",
    "print(s[6:0:-2])\n",
    "print(s[::-1])"
   ]
  },
  {
   "cell_type": "markdown",
   "id": "21215e60-ca7a-4163-a1e8-ab7b200503cb",
   "metadata": {},
   "source": [
    "<h1>editing and deleting</h>"
   ]
  },
  {
   "cell_type": "code",
   "execution_count": 34,
   "id": "0119d74d-796d-4b8a-bd01-103b97d8684c",
   "metadata": {},
   "outputs": [
    {
     "ename": "TypeError",
     "evalue": "'str' object does not support item assignment",
     "output_type": "error",
     "traceback": [
      "\u001b[1;31m---------------------------------------------------------------------------\u001b[0m",
      "\u001b[1;31mTypeError\u001b[0m                                 Traceback (most recent call last)",
      "Cell \u001b[1;32mIn[34], line 1\u001b[0m\n\u001b[1;32m----> 1\u001b[0m \u001b[43ms\u001b[49m\u001b[43m[\u001b[49m\u001b[38;5;241;43m0\u001b[39;49m\u001b[43m]\u001b[49m\u001b[38;5;241m=\u001b[39m\u001b[38;5;124m\"\u001b[39m\u001b[38;5;124mh\u001b[39m\u001b[38;5;124m\"\u001b[39m\n",
      "\u001b[1;31mTypeError\u001b[0m: 'str' object does not support item assignment"
     ]
    }
   ],
   "source": [
    "s[0]=\"h\""
   ]
  },
  {
   "cell_type": "code",
   "execution_count": 35,
   "id": "e3f5d35d-5850-44ff-a753-67c8b8c45fbd",
   "metadata": {},
   "outputs": [
    {
     "ename": "NameError",
     "evalue": "name 's' is not defined",
     "output_type": "error",
     "traceback": [
      "\u001b[1;31m---------------------------------------------------------------------------\u001b[0m",
      "\u001b[1;31mNameError\u001b[0m                                 Traceback (most recent call last)",
      "Cell \u001b[1;32mIn[35], line 3\u001b[0m\n\u001b[0;32m      1\u001b[0m s \u001b[38;5;241m=\u001b[39m \u001b[38;5;124m'\u001b[39m\u001b[38;5;124mhello world\u001b[39m\u001b[38;5;124m'\u001b[39m\n\u001b[0;32m      2\u001b[0m \u001b[38;5;28;01mdel\u001b[39;00m s\n\u001b[1;32m----> 3\u001b[0m \u001b[38;5;28mprint\u001b[39m(\u001b[43ms\u001b[49m)\n",
      "\u001b[1;31mNameError\u001b[0m: name 's' is not defined"
     ]
    }
   ],
   "source": [
    "s = 'hello world'\n",
    "del s\n",
    "print(s)"
   ]
  },
  {
   "cell_type": "code",
   "execution_count": 36,
   "id": "761c7a4d-ae1b-4f39-9312-8b7c94d3f439",
   "metadata": {},
   "outputs": [
    {
     "ename": "TypeError",
     "evalue": "'str' object does not support item deletion",
     "output_type": "error",
     "traceback": [
      "\u001b[1;31m---------------------------------------------------------------------------\u001b[0m",
      "\u001b[1;31mTypeError\u001b[0m                                 Traceback (most recent call last)",
      "Cell \u001b[1;32mIn[36], line 2\u001b[0m\n\u001b[0;32m      1\u001b[0m s \u001b[38;5;241m=\u001b[39m \u001b[38;5;124m'\u001b[39m\u001b[38;5;124mhello world\u001b[39m\u001b[38;5;124m'\u001b[39m\n\u001b[1;32m----> 2\u001b[0m \u001b[38;5;28;01mdel\u001b[39;00m \u001b[43ms\u001b[49m\u001b[43m[\u001b[49m\u001b[38;5;241;43m-\u001b[39;49m\u001b[38;5;241;43m1\u001b[39;49m\u001b[43m:\u001b[49m\u001b[38;5;241;43m-\u001b[39;49m\u001b[38;5;241;43m5\u001b[39;49m\u001b[43m:\u001b[49m\u001b[38;5;241;43m2\u001b[39;49m\u001b[43m]\u001b[49m\n\u001b[0;32m      3\u001b[0m \u001b[38;5;28mprint\u001b[39m(s)\n",
      "\u001b[1;31mTypeError\u001b[0m: 'str' object does not support item deletion"
     ]
    }
   ],
   "source": [
    "s = 'hello world'\n",
    "del s[-1:-5:2]\n",
    "print(s)"
   ]
  },
  {
   "cell_type": "markdown",
   "id": "12fdc927-a18f-4dc1-ba66-6ca03efb13a8",
   "metadata": {},
   "source": [
    "<h1>operation of strings</h1>"
   ]
  },
  {
   "cell_type": "code",
   "execution_count": 37,
   "id": "fb0d7ae3-51a5-4145-8a86-0d12433a39d0",
   "metadata": {},
   "outputs": [
    {
     "name": "stdout",
     "output_type": "stream",
     "text": [
      "sudhanshu singh rajputchauhan sudhanshu singh rajput\n"
     ]
    }
   ],
   "source": [
    "#arithmetic operation\n",
    "s1=\"sudhanshu singh rajput\"\n",
    "s2=\"chauhan sudhanshu singh rajput\"\n",
    "s=s1+s2\n",
    "print(s)"
   ]
  },
  {
   "cell_type": "code",
   "execution_count": 42,
   "id": "c8a15306-d0af-438c-82e7-20f6795363ab",
   "metadata": {},
   "outputs": [
    {
     "name": "stdout",
     "output_type": "stream",
     "text": [
      "delhidelhidelhidelhidelhidelhidelhidelhidelhidelhidelhidelhidelhidelhidelhidelhidelhidelhidelhidelhidelhidelhidelhidelhidelhidelhidelhidelhidelhidelhidelhidelhidelhidelhidelhidelhidelhidelhidelhidelhidelhidelhidelhidelhidelhidelhidelhidelhidelhidelhi\n"
     ]
    }
   ],
   "source": [
    "print(\"delhi\"*50,sep=\"\\n\")"
   ]
  },
  {
   "cell_type": "code",
   "execution_count": 5,
   "id": "8df6de80-b5ad-426a-8e65-7f63a217e750",
   "metadata": {},
   "outputs": [
    {
     "name": "stdout",
     "output_type": "stream",
     "text": [
      "False\n",
      "True\n"
     ]
    }
   ],
   "source": [
    "print(\"delhi\"!=\"delhi\")\n",
    "print(\"delhi\"==\"delhi\")"
   ]
  },
  {
   "cell_type": "code",
   "execution_count": 6,
   "id": "dba51858-7916-4f89-8786-c1cd7c0c6f91",
   "metadata": {},
   "outputs": [
    {
     "data": {
      "text/plain": [
       "'world'"
      ]
     },
     "execution_count": 6,
     "metadata": {},
     "output_type": "execute_result"
    }
   ],
   "source": [
    "\"hello\" and \"world\""
   ]
  },
  {
   "cell_type": "code",
   "execution_count": 8,
   "id": "1aa66170-2bd8-422b-b7e2-ebec3f52424e",
   "metadata": {},
   "outputs": [
    {
     "data": {
      "text/plain": [
       "'hello'"
      ]
     },
     "execution_count": 8,
     "metadata": {},
     "output_type": "execute_result"
    }
   ],
   "source": [
    "\"hello\" or \"world\""
   ]
  },
  {
   "cell_type": "code",
   "execution_count": 14,
   "id": "fb36f483-b56e-460e-9d5f-d2734c356504",
   "metadata": {},
   "outputs": [
    {
     "name": "stdout",
     "output_type": "stream",
     "text": [
      "h\n",
      "e\n",
      "l\n",
      "l\n",
      "o\n"
     ]
    }
   ],
   "source": [
    "for i in  \"hello\":\n",
    "    print(i)"
   ]
  },
  {
   "cell_type": "code",
   "execution_count": 17,
   "id": "70cf4ffb-c765-4c9c-b2e1-5db9930fe270",
   "metadata": {},
   "outputs": [
    {
     "name": "stdout",
     "output_type": "stream",
     "text": [
      "pune\n",
      "pune\n",
      "pune\n",
      "pune\n",
      "pune\n"
     ]
    }
   ],
   "source": [
    "for i in \"hello\":\n",
    "    print(\"pune\")"
   ]
  },
  {
   "cell_type": "code",
   "execution_count": 20,
   "id": "f8be6d1a-6905-4d72-96a7-994a99c67e72",
   "metadata": {},
   "outputs": [
    {
     "data": {
      "text/plain": [
       "False"
      ]
     },
     "execution_count": 20,
     "metadata": {},
     "output_type": "execute_result"
    }
   ],
   "source": [
    "\"D\"in \"delhi\""
   ]
  },
  {
   "cell_type": "markdown",
   "id": "b26cafbe-870a-4b09-93fd-937f490d2a2f",
   "metadata": {},
   "source": [
    "<h1>common functions</h1>"
   ]
  },
  {
   "cell_type": "code",
   "execution_count": 25,
   "id": "0fb25a2f-89db-43fa-88d5-ff3ecef4cfa7",
   "metadata": {},
   "outputs": [
    {
     "name": "stdout",
     "output_type": "stream",
     "text": [
      "22\n",
      "u\n",
      "_\n",
      "['_', '_', 'a', 'a', 'd', 'g', 'h', 'h', 'h', 'i', 'j', 'n', 'n', 'p', 'r', 's', 's', 's', 't', 'u', 'u', 'u']\n"
     ]
    }
   ],
   "source": [
    "a=\"sudhanshu_singh_rajput\"\n",
    "print(len(a))\n",
    "print(max(a))\n",
    "print(min(a))\n",
    "print(sorted(a))"
   ]
  },
  {
   "cell_type": "markdown",
   "id": "29cb982d-7ad2-4fb8-8a9a-66d0d26cce53",
   "metadata": {},
   "source": [
    "<h1>captilize/lower_case/upper_case/lower_case</h1>"
   ]
  },
  {
   "cell_type": "code",
   "execution_count": 31,
   "id": "6c99c619-324d-4461-8f13-c510b036d816",
   "metadata": {},
   "outputs": [
    {
     "name": "stdout",
     "output_type": "stream",
     "text": [
      "Sudhanshu_singh_rajput\n",
      "sudhanshu_singh_rajput\n"
     ]
    }
   ],
   "source": [
    "a=\"sudhanshu_singh_rajput\"\n",
    "print(a.capitalize())\n",
    "print(a)"
   ]
  },
  {
   "cell_type": "code",
   "execution_count": 35,
   "id": "f8c0935b-9aba-41d7-9253-9a66724948fd",
   "metadata": {},
   "outputs": [
    {
     "name": "stdout",
     "output_type": "stream",
     "text": [
      "Sudhanshu_Singh_Rajput\n",
      "SUDHANSHU_SINGH_RAJPUT\n",
      "sudhanshu_singh_rajput\n",
      "SUDHANSHU_SINGH_RAJPUT\n"
     ]
    }
   ],
   "source": [
    "print(a.title())\n",
    "print(a.upper())\n",
    "print(a.lower())\n",
    "print(a.swapcase())"
   ]
  },
  {
   "cell_type": "markdown",
   "id": "1211cc1b-95db-4ac2-9c3d-a0d56260cea3",
   "metadata": {},
   "source": [
    "<h1>count/find/index/startwith/endwith/format</h1>"
   ]
  },
  {
   "cell_type": "code",
   "execution_count": 60,
   "id": "d2933bf1-1c15-495d-9e6b-cc893ffeb576",
   "metadata": {},
   "outputs": [
    {
     "name": "stdout",
     "output_type": "stream",
     "text": [
      "3\n",
      "0\n",
      "2\n"
     ]
    },
    {
     "data": {
      "text/plain": [
       "'my name is sudhanshu_singh_rajputand i am  alphamale'"
      ]
     },
     "execution_count": 60,
     "metadata": {},
     "output_type": "execute_result"
    }
   ],
   "source": [
    "print(a.count(\"h\"))\n",
    "print(a.find(\"s\"))\n",
    "print(a.index(\"d\"))\n",
    "'my name is nitish'.endswith('ish')\n",
    "'my name is nitish'.startswith('ish')\n",
    "name=\"sudhanshu_singh_rajput\"\n",
    "gender=\"alphamale\"\n",
    "\"my name is {1} and i am  {0}\".format(gender,name)"
   ]
  },
  {
   "cell_type": "markdown",
   "id": "3cc9f482-ebe1-40ee-ade1-dbfd8b3aae9d",
   "metadata": {},
   "source": [
    "<h1>isalnum/ isalpha/ isdigit/ isidentifier</h1>"
   ]
  },
  {
   "cell_type": "code",
   "execution_count": 62,
   "id": "cff09c20-d403-4cb2-8d94-dacfc6915390",
   "metadata": {},
   "outputs": [
    {
     "name": "stdout",
     "output_type": "stream",
     "text": [
      "False\n",
      "True\n",
      "False\n",
      "False\n"
     ]
    }
   ],
   "source": [
    "print('nitish1234%'.isalnum())\n",
    "print('nitish'.isalpha())\n",
    "print('123abc'.isdigit())\n",
    "print('first-name'.isidentifier())"
   ]
  },
  {
   "cell_type": "markdown",
   "id": "2b651e4a-a1f3-4dcf-9f14-43bbb1d10e5f",
   "metadata": {},
   "source": [
    "<h1>split/join/replace/strip</h1>"
   ]
  },
  {
   "cell_type": "code",
   "execution_count": 69,
   "id": "881b5928-cb45-4b44-beaf-2f1fc2c3dd8e",
   "metadata": {},
   "outputs": [
    {
     "data": {
      "text/plain": [
       "'nitish'"
      ]
     },
     "execution_count": 69,
     "metadata": {},
     "output_type": "execute_result"
    }
   ],
   "source": [
    "#a=\"sudhanshu_singh_rajput\"\n",
    "\"sudhanshu_singh_rajput\".split()\n",
    "#\"sudhanshu_singh_rajput\".join()\n",
    "'hi my name is nitish'.replace('nitisrgewrhgh','campusx')\n",
    "'nitish                           '.strip()\n"
   ]
  },
  {
   "cell_type": "code",
   "execution_count": 73,
   "id": "b74880c6-e268-4f1b-b0c8-13db13d25377",
   "metadata": {},
   "outputs": [
    {
     "name": "stdin",
     "output_type": "stream",
     "text": [
      "Enter the string:  sudhanshu\n"
     ]
    },
    {
     "name": "stdout",
     "output_type": "stream",
     "text": [
      "Length of the string is: 9\n"
     ]
    }
   ],
   "source": [
    "# Find the length of a given string without using the len() function\n",
    "\n",
    "s = input('Enter the string: ')\n",
    "count = 0\n",
    "for _ in s:\n",
    "    count += 1\n",
    "\n",
    "print(\"Length of the string is:\", count)\n"
   ]
  },
  {
   "cell_type": "code",
   "execution_count": 74,
   "id": "806ffb15-2a5b-4279-aae2-a04a9e0f96f9",
   "metadata": {},
   "outputs": [
    {
     "name": "stdin",
     "output_type": "stream",
     "text": [
      "enter the email sudhanhsusinghrajput@gmail.com\n",
      "what would like to search for sudhanhusingh\n"
     ]
    },
    {
     "name": "stdout",
     "output_type": "stream",
     "text": [
      "frequency 0\n"
     ]
    }
   ],
   "source": [
    "# Extract username from a given email. \n",
    "# Eg if the email is nitish24singh@gmail.com \n",
    "# then the username should be nitish24singh\n",
    "s = input('enter the email')\n",
    "term = input('what would like to search for')\n",
    "\n",
    "counter = 0\n",
    "for i in s:\n",
    "  if i == term:\n",
    "    counter += 1\n",
    "\n",
    "print('frequency',counter)"
   ]
  },
  {
   "cell_type": "code",
   "execution_count": 75,
   "id": "dfc47d4f-a734-4881-a721-b6bafe0f6aa2",
   "metadata": {},
   "outputs": [
    {
     "name": "stdin",
     "output_type": "stream",
     "text": [
      "enter the string sudhanhuainghreajput\n",
      "what would like to remove singh\n"
     ]
    },
    {
     "name": "stdout",
     "output_type": "stream",
     "text": [
      "sudhanhuainghreajput\n"
     ]
    }
   ],
   "source": [
    "# Write a program which can remove a particular character from a string.\n",
    "s = input('enter the string')\n",
    "term = input('what would like to remove')\n",
    "\n",
    "result = ''\n",
    "\n",
    "for i in s:\n",
    "  if i != term:\n",
    "    result = result + i\n",
    "\n",
    "print(result)"
   ]
  },
  {
   "cell_type": "code",
   "execution_count": 76,
   "id": "9f627745-cd52-4b54-860f-63cfec4fa101",
   "metadata": {},
   "outputs": [
    {
     "ename": "SyntaxError",
     "evalue": "invalid syntax (3530810221.py, line 1)",
     "output_type": "error",
     "traceback": [
      "\u001b[1;36m  Cell \u001b[1;32mIn[76], line 1\u001b[1;36m\u001b[0m\n\u001b[1;33m    Write a program that can check whether a given string is palindrome or not.\u001b[0m\n\u001b[1;37m          ^\u001b[0m\n\u001b[1;31mSyntaxError\u001b[0m\u001b[1;31m:\u001b[0m invalid syntax\n"
     ]
    }
   ],
   "source": [
    " Write a program that can check whether a given string is palindrome or not.\n",
    "# abba\n",
    "# malayalam\n",
    "\n",
    "s = input('enter the string')\n",
    "flag = True\n",
    "for i in range(0,len(s)//2):\n",
    "  if s[i] != s[len(s) - i -1]:\n",
    "    flag = False\n",
    "    print('Not a Palindrome')\n",
    "    break\n",
    "\n",
    "if flag:\n",
    "  print('Palindrome')"
   ]
  },
  {
   "cell_type": "code",
   "execution_count": null,
   "id": "f29a706f-8c73-4085-ad5c-287ae8caee1f",
   "metadata": {},
   "outputs": [],
   "source": []
  }
 ],
 "metadata": {
  "kernelspec": {
   "display_name": "Python 3 (ipykernel)",
   "language": "python",
   "name": "python3"
  },
  "language_info": {
   "codemirror_mode": {
    "name": "ipython",
    "version": 3
   },
   "file_extension": ".py",
   "mimetype": "text/x-python",
   "name": "python",
   "nbconvert_exporter": "python",
   "pygments_lexer": "ipython3",
   "version": "3.13.1"
  }
 },
 "nbformat": 4,
 "nbformat_minor": 5
}
